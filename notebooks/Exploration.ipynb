{
 "cells": [
  {
   "cell_type": "code",
   "execution_count": 1,
   "id": "96759973-74ca-4c93-8aad-0297b057e7c5",
   "metadata": {},
   "outputs": [],
   "source": [
    "import sys\n",
    "import numpy as np\n",
    "sys.path.append('/home/kjetil/projects/sintef/across/ensemble_pavel/opm/opm/build/opm-common/python')\n",
    "import opm\n",
    "\n",
    "base_filename = \"/mnt/data_internal/kjetil/pavel/output/output/sleipner_decks/Coarse_Sleipner_ensemble/Coarse_Sleipner_ensemble_{ensemble_number}/mpi/14/dev.5/COARSE_SLEIPNER_ENSEMBLE_{ensemble_number}.UNRST\"\n"
   ]
  },
  {
   "cell_type": "code",
   "execution_count": 2,
   "id": "24e835c8-ebf1-4731-bf5c-9800b6020b39",
   "metadata": {},
   "outputs": [],
   "source": [
    "from opm.io.ecl import ESmry, EGrid,EclOutput,EclFile,ERft"
   ]
  },
  {
   "cell_type": "code",
   "execution_count": 3,
   "id": "735c7841-6919-4ed1-9cac-ca45d7c04d6b",
   "metadata": {},
   "outputs": [
    {
     "ename": "RuntimeError",
     "evalue": "Can not open EclFile: /home/kjetil/projects/sintef/across/ensemble_pavel/ensemble_run_across/notebooks/COARSE_SLEIPNER_ENSEMBLE_0001.SMSPEC",
     "output_type": "error",
     "traceback": [
      "\u001b[0;31m---------------------------------------------------------------------------\u001b[0m",
      "\u001b[0;31mRuntimeError\u001b[0m                              Traceback (most recent call last)",
      "\u001b[1;32m/home/kjetil/projects/sintef/across/ensemble_pavel/ensemble_run_across/notebooks/Exploration.ipynb Cell 3\u001b[0m line \u001b[0;36m1\n\u001b[0;32m----> <a href='vscode-notebook-cell:/home/kjetil/projects/sintef/across/ensemble_pavel/ensemble_run_across/notebooks/Exploration.ipynb#W2sZmlsZQ%3D%3D?line=0'>1</a>\u001b[0m es \u001b[39m=\u001b[39m ESmry(\u001b[39m'\u001b[39;49m\u001b[39mCOARSE_SLEIPNER_ENSEMBLE_0001.SMSPEC\u001b[39;49m\u001b[39m'\u001b[39;49m)\n",
      "\u001b[0;31mRuntimeError\u001b[0m: Can not open EclFile: /home/kjetil/projects/sintef/across/ensemble_pavel/ensemble_run_across/notebooks/COARSE_SLEIPNER_ENSEMBLE_0001.SMSPEC"
     ]
    }
   ],
   "source": [
    "es = ESmry('COARSE_SLEIPNER_ENSEMBLE_0001.SMSPEC')\n"
   ]
  },
  {
   "cell_type": "code",
   "execution_count": 4,
   "id": "b89d5c5d-08df-4f89-917f-27f0faa5644c",
   "metadata": {},
   "outputs": [],
   "source": [
    "eg = EGrid(\"COARSE_SLEIPNER_ENSEMBLE_0001.EGRID\")"
   ]
  },
  {
   "cell_type": "code",
   "execution_count": 5,
   "id": "09073ece-4a27-4da1-b024-8e78285242a9",
   "metadata": {},
   "outputs": [],
   "source": [
    "ecloutput = EclFile('COARSE_SLEIPNER_ENSEMBLE_0001.UNRST')"
   ]
  },
  {
   "cell_type": "code",
   "execution_count": 12,
   "id": "e66f7ef3-b05f-4bbd-b8a8-ec0580aba2ec",
   "metadata": {},
   "outputs": [
    {
     "name": "stdout",
     "output_type": "stream",
     "text": [
      "ZWEL\n",
      "ZGRP\n",
      "LOGIHEAD\n",
      "SEQNUM\n",
      "XWEL\n",
      "SCON\n",
      "XCON\n",
      "SGAS\n",
      "PRESSURE\n",
      "SGRP\n",
      "IGRP\n",
      "ICON\n",
      "DOUBHEAD\n",
      "XGRP\n",
      "ZWLS\n",
      "IWEL\n",
      "SWEL\n",
      "IWLS\n",
      "INTEHEAD\n",
      "ENDSOL\n",
      "STARTSOL\n"
     ]
    }
   ],
   "source": [
    "ecloutput.arrays\n",
    "all = []\n",
    "for k in ecloutput.arrays:\n",
    "    all.append(k[0])\n",
    "print(\"\\n\".join(set(all)))"
   ]
  },
  {
   "cell_type": "code",
   "execution_count": 7,
   "id": "4e57ea9b-bfdc-458f-aa0c-953ef33bbceb",
   "metadata": {},
   "outputs": [
    {
     "name": "stdout",
     "output_type": "stream",
     "text": [
      "(113344,)\n"
     ]
    }
   ],
   "source": [
    "print (ecloutput['SGAS'].shape)"
   ]
  },
  {
   "cell_type": "code",
   "execution_count": 8,
   "id": "78bcac2b-8722-46ec-8239-bb502e850c49",
   "metadata": {},
   "outputs": [
    {
     "data": {
      "text/plain": [
       "7.3561516"
      ]
     },
     "execution_count": 8,
     "metadata": {},
     "output_type": "execute_result"
    }
   ],
   "source": [
    "np.sum(np.abs(ecloutput['SGAS']))"
   ]
  },
  {
   "cell_type": "code",
   "execution_count": 9,
   "id": "40adbba7-622a-4625-9a26-e1b54b06a09c",
   "metadata": {},
   "outputs": [
    {
     "name": "stdout",
     "output_type": "stream",
     "text": [
      "[0, 661921650, 0]\n"
     ]
    }
   ],
   "source": [
    "print(eg.dimension)"
   ]
  },
  {
   "cell_type": "code",
   "execution_count": 10,
   "id": "385cd3d7-f6cc-4d00-9935-75d2f9cc68d3",
   "metadata": {},
   "outputs": [
    {
     "ename": "SyntaxError",
     "evalue": "invalid syntax (1704697551.py, line 1)",
     "output_type": "error",
     "traceback": [
      "\u001b[0;36m  Cell \u001b[0;32mIn[10], line 1\u001b[0;36m\u001b[0m\n\u001b[0;31m    for ensemble_number in\u001b[0m\n\u001b[0m                           ^\u001b[0m\n\u001b[0;31mSyntaxError\u001b[0m\u001b[0;31m:\u001b[0m invalid syntax\n"
     ]
    }
   ],
   "source": [
    "\n",
    "for ensemble_number i"
   ]
  }
 ],
 "metadata": {
  "kernelspec": {
   "display_name": "Python 3 (ipykernel)",
   "language": "python",
   "name": "python3"
  },
  "language_info": {
   "codemirror_mode": {
    "name": "ipython",
    "version": 3
   },
   "file_extension": ".py",
   "mimetype": "text/x-python",
   "name": "python",
   "nbconvert_exporter": "python",
   "pygments_lexer": "ipython3",
   "version": "3.11.5"
  }
 },
 "nbformat": 4,
 "nbformat_minor": 5
}
